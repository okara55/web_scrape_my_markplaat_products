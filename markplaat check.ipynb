{
 "cells": [
  {
   "cell_type": "code",
   "execution_count": 2,
   "metadata": {},
   "outputs": [],
   "source": [
    "import requests\n",
    "import bs4\n",
    "from bs4 import BeautifulSoup\n",
    "import pandas as pd"
   ]
  },
  {
   "cell_type": "code",
   "execution_count": 3,
   "metadata": {},
   "outputs": [],
   "source": [
    "\n",
    "url='https://www.marktplaats.nl/u/kara/27938435/'\n",
    "r=requests.get(url)\n"
   ]
  },
  {
   "cell_type": "code",
   "execution_count": 4,
   "metadata": {},
   "outputs": [],
   "source": [
    "soup = BeautifulSoup(r.text,'lxml')\n",
    "\n"
   ]
  },
  {
   "cell_type": "code",
   "execution_count": 5,
   "metadata": {},
   "outputs": [
    {
     "name": "stdout",
     "output_type": "stream",
     "text": [
      "['Olympus C-180 H.Q Converter 1.7x', 'Tamron AF Aspherical 28-80mm 1:3.5-5.6', 'Canon Zoom Lens EF-S 18-55mm 1:3.5-5.6 II']\n"
     ]
    }
   ],
   "source": [
    "#gets my product name \n",
    "\n",
    "name=soup.find_all(\"h3\",{\"class\":\"mp-Listing-title\"})\n",
    "name_list=[]\n",
    "for i in range(len(name)):\n",
    "    name_list.append(name[i].get_text())\n",
    "print(name_list)"
   ]
  },
  {
   "cell_type": "code",
   "execution_count": 6,
   "metadata": {},
   "outputs": [],
   "source": [
    "#gets my product link list .we will use that links find view and like lists.  \n",
    "links = soup.find_all('a')\n",
    "link_list=[]\n",
    "for link in links:\n",
    "    tag=link.get('href')\n",
    "    #print(tag)\n",
    "    try:\n",
    "          link_list.append(tag) if '/a/' in tag else None\n",
    "    except:\n",
    "        None"
   ]
  },
  {
   "cell_type": "code",
   "execution_count": 7,
   "metadata": {},
   "outputs": [],
   "source": [
    "#get view count and like count \n",
    "view_list=[]\n",
    "like_list=[]\n",
    "for urls in link_list:\n",
    "    url_add='https://www.marktplaats.nl'+urls\n",
    "    r=requests.get(url_add)\n",
    "    soup2= BeautifulSoup(r.text,'lxml')\n",
    "    view=soup2.find('span',{'id':'view-count'})\n",
    "    like=soup2.find('span',{'id':'favorited-count'})\n",
    "    view_list.append(view.get_text())\n",
    "    like_list.append(like.get_text())\n",
    "    \n"
   ]
  },
  {
   "cell_type": "code",
   "execution_count": 8,
   "metadata": {},
   "outputs": [
    {
     "data": {
      "text/html": [
       "<div>\n",
       "<style scoped>\n",
       "    .dataframe tbody tr th:only-of-type {\n",
       "        vertical-align: middle;\n",
       "    }\n",
       "\n",
       "    .dataframe tbody tr th {\n",
       "        vertical-align: top;\n",
       "    }\n",
       "\n",
       "    .dataframe thead th {\n",
       "        text-align: right;\n",
       "    }\n",
       "</style>\n",
       "<table border=\"1\" class=\"dataframe\">\n",
       "  <thead>\n",
       "    <tr style=\"text-align: right;\">\n",
       "      <th></th>\n",
       "      <th>Product Name</th>\n",
       "      <th>Views</th>\n",
       "      <th>Like</th>\n",
       "    </tr>\n",
       "  </thead>\n",
       "  <tbody>\n",
       "    <tr>\n",
       "      <th>0</th>\n",
       "      <td>Olympus C-180 H.Q Converter 1.7x</td>\n",
       "      <td>9</td>\n",
       "      <td>0</td>\n",
       "    </tr>\n",
       "    <tr>\n",
       "      <th>1</th>\n",
       "      <td>Tamron AF Aspherical 28-80mm 1:3.5-5.6</td>\n",
       "      <td>21</td>\n",
       "      <td>0</td>\n",
       "    </tr>\n",
       "    <tr>\n",
       "      <th>2</th>\n",
       "      <td>Canon Zoom Lens EF-S 18-55mm 1:3.5-5.6 II</td>\n",
       "      <td>26</td>\n",
       "      <td>0</td>\n",
       "    </tr>\n",
       "  </tbody>\n",
       "</table>\n",
       "</div>"
      ],
      "text/plain": [
       "                                Product Name Views Like\n",
       "0           Olympus C-180 H.Q Converter 1.7x     9    0\n",
       "1     Tamron AF Aspherical 28-80mm 1:3.5-5.6    21    0\n",
       "2  Canon Zoom Lens EF-S 18-55mm 1:3.5-5.6 II    26    0"
      ]
     },
     "execution_count": 8,
     "metadata": {},
     "output_type": "execute_result"
    }
   ],
   "source": [
    "#create df with pandas\n",
    "df = pd.DataFrame({'Product Name':name_list,'Views':view_list,'Like':like_list})\n",
    "df"
   ]
  },
  {
   "cell_type": "code",
   "execution_count": 9,
   "metadata": {},
   "outputs": [],
   "source": [
    "#save dataframe to csv \n",
    "#df.to_csv('my_markplaat_products.csv')"
   ]
  },
  {
   "cell_type": "code",
   "execution_count": null,
   "metadata": {},
   "outputs": [],
   "source": []
  }
 ],
 "metadata": {
  "kernelspec": {
   "display_name": "Python 3",
   "language": "python",
   "name": "python3"
  },
  "language_info": {
   "codemirror_mode": {
    "name": "ipython",
    "version": 3
   },
   "file_extension": ".py",
   "mimetype": "text/x-python",
   "name": "python",
   "nbconvert_exporter": "python",
   "pygments_lexer": "ipython3",
   "version": "3.7.6"
  }
 },
 "nbformat": 4,
 "nbformat_minor": 2
}
